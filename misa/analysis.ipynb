{
 "cells": [
  {
   "cell_type": "code",
   "execution_count": 1,
   "metadata": {},
   "outputs": [],
   "source": [
    "import pandas as pd\n",
    "\n",
    "df = pd.read_csv ('misa.csv', on_bad_lines='skip')"
   ]
  },
  {
   "cell_type": "code",
   "execution_count": 2,
   "metadata": {},
   "outputs": [
    {
     "data": {
      "text/plain": [
       "さ    1003\n",
       "み     759\n",
       "Name: suffix, dtype: int64"
      ]
     },
     "execution_count": 2,
     "metadata": {},
     "output_type": "execute_result"
    }
   ],
   "source": [
    "df['suffix'].value_counts()"
   ]
  },
  {
   "cell_type": "code",
   "execution_count": 23,
   "metadata": {},
   "outputs": [
    {
     "data": {
      "text/html": [
       "<div>\n",
       "<style scoped>\n",
       "    .dataframe tbody tr th:only-of-type {\n",
       "        vertical-align: middle;\n",
       "    }\n",
       "\n",
       "    .dataframe tbody tr th {\n",
       "        vertical-align: top;\n",
       "    }\n",
       "\n",
       "    .dataframe thead th {\n",
       "        text-align: right;\n",
       "    }\n",
       "</style>\n",
       "<table border=\"1\" class=\"dataframe\">\n",
       "  <thead>\n",
       "    <tr style=\"text-align: right;\">\n",
       "      <th></th>\n",
       "      <th>suffix</th>\n",
       "      <th>prev</th>\n",
       "      <th>word</th>\n",
       "      <th>next</th>\n",
       "      <th>sentence</th>\n",
       "    </tr>\n",
       "  </thead>\n",
       "  <tbody>\n",
       "    <tr>\n",
       "      <th>9</th>\n",
       "      <td>さ</td>\n",
       "      <td>クの</td>\n",
       "      <td>高さ</td>\n",
       "      <td>も産</td>\n",
       "      <td>訴訟リスクの高さも産科医にのしかかる。</td>\n",
       "    </tr>\n",
       "    <tr>\n",
       "      <th>10</th>\n",
       "      <td>さ</td>\n",
       "      <td>面の</td>\n",
       "      <td>高さ</td>\n",
       "      <td>を調</td>\n",
       "      <td>調節レバーを上に上げると座面の高さを調節できます。</td>\n",
       "    </tr>\n",
       "    <tr>\n",
       "      <th>12</th>\n",
       "      <td>さ</td>\n",
       "      <td>識の</td>\n",
       "      <td>無さ</td>\n",
       "      <td>やう</td>\n",
       "      <td>ネット上のマナーやら常識の無さやうんちゃらかんちゃらにうんざりしっぱなしです。</td>\n",
       "    </tr>\n",
       "    <tr>\n",
       "      <th>13</th>\n",
       "      <td>み</td>\n",
       "      <td>腰の</td>\n",
       "      <td>痛み</td>\n",
       "      <td>から</td>\n",
       "      <td>腰の痛みから足が鉛のように重く引きずるように歩いていました。</td>\n",
       "    </tr>\n",
       "    <tr>\n",
       "      <th>15</th>\n",
       "      <td>さ</td>\n",
       "      <td>りの</td>\n",
       "      <td>長さ</td>\n",
       "      <td>。</td>\n",
       "      <td>赤道における経度1度当たりの長さ。</td>\n",
       "    </tr>\n",
       "    <tr>\n",
       "      <th>...</th>\n",
       "      <td>...</td>\n",
       "      <td>...</td>\n",
       "      <td>...</td>\n",
       "      <td>...</td>\n",
       "      <td>...</td>\n",
       "    </tr>\n",
       "    <tr>\n",
       "      <th>1745</th>\n",
       "      <td>さ</td>\n",
       "      <td>この</td>\n",
       "      <td>寒さ</td>\n",
       "      <td>で、</td>\n",
       "      <td>この寒さで、学校が休みにならないのが不思議だわ。</td>\n",
       "    </tr>\n",
       "    <tr>\n",
       "      <th>1747</th>\n",
       "      <td>さ</td>\n",
       "      <td>スの</td>\n",
       "      <td>重さ</td>\n",
       "      <td>、ど</td>\n",
       "      <td>このスーツケースの重さ、どれくらいあると思う？</td>\n",
       "    </tr>\n",
       "    <tr>\n",
       "      <th>1749</th>\n",
       "      <td>さ</td>\n",
       "      <td>ナの</td>\n",
       "      <td>重さ</td>\n",
       "      <td>で折</td>\n",
       "      <td>バナナの木は、バナナの重さで折れたりはしない。</td>\n",
       "    </tr>\n",
       "    <tr>\n",
       "      <th>1750</th>\n",
       "      <td>さ</td>\n",
       "      <td>雪の</td>\n",
       "      <td>重さ</td>\n",
       "      <td>で枝</td>\n",
       "      <td>雪の重さで枝が折れてしまった。</td>\n",
       "    </tr>\n",
       "    <tr>\n",
       "      <th>1759</th>\n",
       "      <td>み</td>\n",
       "      <td>胸の</td>\n",
       "      <td>痛み</td>\n",
       "      <td>があ</td>\n",
       "      <td>胸の痛みがあるんです。</td>\n",
       "    </tr>\n",
       "  </tbody>\n",
       "</table>\n",
       "<p>756 rows × 5 columns</p>\n",
       "</div>"
      ],
      "text/plain": [
       "     suffix prev word next                                 sentence\n",
       "9         さ   クの   高さ   も産                      訴訟リスクの高さも産科医にのしかかる。\n",
       "10        さ   面の   高さ   を調                調節レバーを上に上げると座面の高さを調節できます。\n",
       "12        さ   識の   無さ   やう  ネット上のマナーやら常識の無さやうんちゃらかんちゃらにうんざりしっぱなしです。\n",
       "13        み   腰の   痛み   から           腰の痛みから足が鉛のように重く引きずるように歩いていました。\n",
       "15        さ   りの   長さ    。                        赤道における経度1度当たりの長さ。\n",
       "...     ...  ...  ...  ...                                      ...\n",
       "1745      さ   この   寒さ   で、                 この寒さで、学校が休みにならないのが不思議だわ。\n",
       "1747      さ   スの   重さ   、ど                  このスーツケースの重さ、どれくらいあると思う？\n",
       "1749      さ   ナの   重さ   で折                  バナナの木は、バナナの重さで折れたりはしない。\n",
       "1750      さ   雪の   重さ   で枝                          雪の重さで枝が折れてしまった。\n",
       "1759      み   胸の   痛み   があ                              胸の痛みがあるんです。\n",
       "\n",
       "[756 rows x 5 columns]"
      ]
     },
     "execution_count": 23,
     "metadata": {},
     "output_type": "execute_result"
    }
   ],
   "source": [
    "genitive = df[(df['prev']).str.contains('の',na=False)]"
   ]
  },
  {
   "cell_type": "code",
   "execution_count": null,
   "metadata": {},
   "outputs": [],
   "source": [
    "genitive = \"の\"\n",
    "\n"
   ]
  }
 ],
 "metadata": {
  "kernelspec": {
   "display_name": "Python 3",
   "language": "python",
   "name": "python3"
  },
  "language_info": {
   "codemirror_mode": {
    "name": "ipython",
    "version": 3
   },
   "file_extension": ".py",
   "mimetype": "text/x-python",
   "name": "python",
   "nbconvert_exporter": "python",
   "pygments_lexer": "ipython3",
   "version": "3.10.5"
  },
  "orig_nbformat": 4
 },
 "nbformat": 4,
 "nbformat_minor": 2
}
